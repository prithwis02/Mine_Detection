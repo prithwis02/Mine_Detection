{
  "nbformat": 4,
  "nbformat_minor": 0,
  "metadata": {
    "colab": {
      "name": "Mine Detection",
      "provenance": [],
      "collapsed_sections": [],
      "authorship_tag": "ABX9TyN+6/l6ULXXxiVPQ2yqP/cG",
      "include_colab_link": true
    },
    "kernelspec": {
      "name": "python3",
      "display_name": "Python 3"
    },
    "language_info": {
      "name": "python"
    }
  },
  "cells": [
    {
      "cell_type": "markdown",
      "metadata": {
        "id": "view-in-github",
        "colab_type": "text"
      },
      "source": [
        "<a href=\"https://colab.research.google.com/github/prithwis02/Mine_Detection/blob/main/Mine_Detection.ipynb\" target=\"_parent\"><img src=\"https://colab.research.google.com/assets/colab-badge.svg\" alt=\"Open In Colab\"/></a>"
      ]
    },
    {
      "cell_type": "markdown",
      "source": [
        "# **Mine Detection by Prithwis Das**\n",
        "\n",
        "---\n",
        "\n"
      ],
      "metadata": {
        "id": "JDqUapPm00iC"
      }
    },
    {
      "cell_type": "markdown",
      "source": [
        "**Import Libraries :**"
      ],
      "metadata": {
        "id": "zJeumRcAIyT9"
      }
    },
    {
      "cell_type": "code",
      "execution_count": null,
      "metadata": {
        "id": "lv0ZnvrC0liq"
      },
      "outputs": [],
      "source": [
        "import numpy as np\n",
        "import pandas as pd\n",
        "from sklearn.pipeline import Pipeline\n",
        "from sklearn.linear_model import LogisticRegression\n",
        "import matplotlib.pyplot as plt\n",
        "from sklearn.model_selection import train_test_split\n",
        "from sklearn.preprocessing import StandardScaler\n",
        "from sklearn.model_selection import train_test_split"
      ]
    },
    {
      "cell_type": "markdown",
      "source": [
        "**Import Dataset :**"
      ],
      "metadata": {
        "id": "MrF08kOjJTEZ"
      }
    },
    {
      "cell_type": "code",
      "source": [
        "dataset = pd.read_csv('/content/mine_dataset.csv', header = None)"
      ],
      "metadata": {
        "id": "0V6E5ESb4k4i"
      },
      "execution_count": null,
      "outputs": []
    },
    {
      "cell_type": "code",
      "source": [
        "dataset\n",
        "\n",
        "\n",
        "\n",
        "\n"
      ],
      "metadata": {
        "id": "1IgQO6My5vKF"
      },
      "execution_count": null,
      "outputs": []
    },
    {
      "cell_type": "markdown",
      "source": [
        "**Separating Data and Output :**"
      ],
      "metadata": {
        "id": "m62fe_ICz2KU"
      }
    },
    {
      "cell_type": "code",
      "source": [
        "data = dataset.drop(columns=60,axis=1)\n",
        "bomb = dataset[60]"
      ],
      "metadata": {
        "id": "ZGRoll9C0KKV"
      },
      "execution_count": null,
      "outputs": []
    },
    {
      "cell_type": "code",
      "source": [
        "print(B)\n",
        "print(data)"
      ],
      "metadata": {
        "id": "i1_wdQxh54Cm"
      },
      "execution_count": null,
      "outputs": []
    },
    {
      "cell_type": "markdown",
      "source": [
        "**Scaling :**"
      ],
      "metadata": {
        "id": "jOYsx5_WSLfB"
      }
    },
    {
      "cell_type": "code",
      "source": [
        "data = StandardScaler().fit_transform(data)"
      ],
      "metadata": {
        "id": "wuPjMogkRlEj"
      },
      "execution_count": null,
      "outputs": []
    },
    {
      "cell_type": "markdown",
      "source": [
        "**Splitting into Training & Testing :** "
      ],
      "metadata": {
        "id": "ZOwprq5KM-47"
      }
    },
    {
      "cell_type": "code",
      "source": [
        "data_train, data_test, bomb_train, bomb_test = train_test_split(data, bomb, test_size=0.2, random_state=2)"
      ],
      "metadata": {
        "id": "hsSTzUNLNQXu"
      },
      "execution_count": null,
      "outputs": []
    },
    {
      "cell_type": "markdown",
      "source": [
        "**Logistic Regression :**"
      ],
      "metadata": {
        "id": "QmGDcY4eP9cT"
      }
    },
    {
      "cell_type": "code",
      "source": [
        "ML=LogisticRegression()\n",
        "ML.fit(data_train,bomb_train)"
      ],
      "metadata": {
        "id": "mDmS9QbGQDJK",
        "colab": {
          "base_uri": "https://localhost:8080/"
        },
        "outputId": "815f3039-b924-4bc0-c71d-c5191d4de4d7"
      },
      "execution_count": null,
      "outputs": [
        {
          "output_type": "execute_result",
          "data": {
            "text/plain": [
              "LogisticRegression()"
            ]
          },
          "metadata": {},
          "execution_count": 105
        }
      ]
    },
    {
      "cell_type": "markdown",
      "source": [
        "**Testing Accuracy :**"
      ],
      "metadata": {
        "id": "-X-zeZ7YSdnh"
      }
    },
    {
      "cell_type": "code",
      "source": [
        "prediction = ML.predict(data_test)\n",
        "print(accuracy_score(bomb_test, prediction)*100)"
      ],
      "metadata": {
        "colab": {
          "base_uri": "https://localhost:8080/"
        },
        "id": "8v-N6BZOShzx",
        "outputId": "7d6a1058-1888-46d8-dd7e-f892780a4980"
      },
      "execution_count": null,
      "outputs": [
        {
          "output_type": "stream",
          "name": "stdout",
          "text": [
            "78.57142857142857\n"
          ]
        }
      ]
    },
    {
      "cell_type": "markdown",
      "source": [
        "**Creating Instances :**"
      ],
      "metadata": {
        "id": "jdDS0sCzpCVJ"
      }
    },
    {
      "cell_type": "code",
      "source": [
        "np.random.shuffle(data_test)\n",
        "instances = data_test[:1, :]\n",
        "instances = instances.tolist()\n",
        "print(instances)\n"
      ],
      "metadata": {
        "colab": {
          "base_uri": "https://localhost:8080/"
        },
        "id": "9GNCWrkjGMeM",
        "outputId": "68418668-7cc2-4275-e646-7d6c9ad8a64e"
      },
      "execution_count": null,
      "outputs": [
        {
          "output_type": "stream",
          "name": "stdout",
          "text": [
            "[[0.18905375642493935, -0.38431589850787296, -0.10518183832273789, 0.06695306426643055, -0.4024363123779141, 0.07682433649098483, 0.7974370082530852, 0.3955509276837261, 0.0719470997881085, 0.43060563601512275, 0.6253494042280278, 0.7519872750658941, 0.27232213578304665, -0.6098802177177075, -0.6938944005674132, -0.4269314112357039, -0.49035111453711033, -0.21241199991279014, 0.21404596498011613, 0.4982559929872493, 0.7303329261953392, 0.4737191695243389, 0.6944853599514889, 1.0624839068186964, 0.8413644797952106, 0.7670756380157537, 0.9301390031712423, 1.2741031188003433, 0.8992555080411595, 0.11793814827750647, -0.5203149090769827, -0.9055896605012452, -1.2267001555907315, -1.2538012639082132, -1.148786593848263, -1.4302414522688558, -1.226760573099102, -1.1581303061278196, -1.1903571062285565, -1.1137575845618852, -1.1830859721470952, -1.0473560502242112, -0.36162007555750103, 0.08667358866216891, -0.10466641248761428, 0.3036229385805098, 0.5343010132363519, 0.1971519712713897, -0.05098903782208898, -0.50058511971552, -0.25616474476700357, -0.14777045675702305, -0.9667472222551752, -0.774500118792426, -0.4370770479608239, -0.6328978857674998, -0.5752666249151154, -0.8907341768795636, -1.2067363133519904, -0.6788714340848907]]\n"
          ]
        }
      ]
    },
    {
      "cell_type": "markdown",
      "source": [
        "**Testing:**"
      ],
      "metadata": {
        "id": "bd-Fk7ocTbTp"
      }
    },
    {
      "cell_type": "code",
      "source": [
        "data_new = np.array([[0.18905375642493935, -0.38431589850787296, -0.10518183832273789, 0.06695306426643055, -0.4024363123779141, 0.07682433649098483, 0.7974370082530852, 0.3955509276837261, 0.0719470997881085, 0.43060563601512275, 0.6253494042280278, 0.7519872750658941, 0.27232213578304665, -0.6098802177177075, -0.6938944005674132, -0.4269314112357039, -0.49035111453711033, -0.21241199991279014, 0.21404596498011613, 0.4982559929872493, 0.7303329261953392, 0.4737191695243389, 0.6944853599514889, 1.0624839068186964, 0.8413644797952106, 0.7670756380157537, 0.9301390031712423, 1.2741031188003433, 0.8992555080411595, 0.11793814827750647, -0.5203149090769827, -0.9055896605012452, -1.2267001555907315, -1.2538012639082132, -1.148786593848263, -1.4302414522688558, -1.226760573099102, -1.1581303061278196, -1.1903571062285565, -1.1137575845618852, -1.1830859721470952, -1.0473560502242112, -0.36162007555750103, 0.08667358866216891, -0.10466641248761428, 0.3036229385805098, 0.5343010132363519, 0.1971519712713897, -0.05098903782208898, -0.50058511971552, -0.25616474476700357, -0.14777045675702305, -0.9667472222551752, -0.774500118792426, -0.4370770479608239, -0.6328978857674998, -0.5752666249151154, -0.8907341768795636, -1.2067363133519904, -0.6788714340848907]])\n",
        "prediction = ML.predict(data_new)\n",
        "\n",
        "print(\"Predicted Species : {}\".format(prediction))\n",
        "\n",
        "#   M = Mine  |  R = Rock"
      ],
      "metadata": {
        "colab": {
          "base_uri": "https://localhost:8080/"
        },
        "id": "yZWWAbutL6Yp",
        "outputId": "ce3b589c-500d-4739-bbe8-3db1011147a2"
      },
      "execution_count": null,
      "outputs": [
        {
          "output_type": "stream",
          "name": "stdout",
          "text": [
            "Predicted Species : ['M']\n"
          ]
        }
      ]
    }
  ]
}