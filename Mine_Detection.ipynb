{
  "nbformat": 4,
  "nbformat_minor": 0,
  "metadata": {
    "colab": {
      "name": "Mine Detection",
      "provenance": [],
      "collapsed_sections": [],
      "authorship_tag": "ABX9TyPZKG8kHpGd0y5qEp7+Mkca",
      "include_colab_link": true
    },
    "kernelspec": {
      "name": "python3",
      "display_name": "Python 3"
    },
    "language_info": {
      "name": "python"
    }
  },
  "cells": [
    {
      "cell_type": "markdown",
      "metadata": {
        "id": "view-in-github",
        "colab_type": "text"
      },
      "source": [
        "<a href=\"https://colab.research.google.com/github/prithwis02/Mine_Detection/blob/main/Mine_Detection.ipynb\" target=\"_parent\"><img src=\"https://colab.research.google.com/assets/colab-badge.svg\" alt=\"Open In Colab\"/></a>"
      ]
    },
    {
      "cell_type": "markdown",
      "source": [
        "# **Mine Detection by Prithwis Das**\n",
        "\n",
        "---\n",
        "\n"
      ],
      "metadata": {
        "id": "JDqUapPm00iC"
      }
    },
    {
      "cell_type": "markdown",
      "source": [
        "**Import Libraries :**"
      ],
      "metadata": {
        "id": "zJeumRcAIyT9"
      }
    },
    {
      "cell_type": "code",
      "execution_count": 9,
      "metadata": {
        "id": "lv0ZnvrC0liq"
      },
      "outputs": [],
      "source": [
        "import numpy as np\n",
        "import pandas as pd\n",
        "from sklearn.pipeline import Pipeline\n",
        "from sklearn.linear_model import LogisticRegression\n",
        "from sklearn.model_selection import train_test_split\n",
        "from sklearn.preprocessing import StandardScaler\n",
        "from sklearn.metrics import accuracy_score"
      ]
    },
    {
      "cell_type": "markdown",
      "source": [
        "**Import Dataset :**"
      ],
      "metadata": {
        "id": "MrF08kOjJTEZ"
      }
    },
    {
      "cell_type": "code",
      "source": [
        "dataset = pd.read_csv('/content/mine_dataset.csv', header = None)"
      ],
      "metadata": {
        "id": "0V6E5ESb4k4i"
      },
      "execution_count": 10,
      "outputs": []
    },
    {
      "cell_type": "code",
      "source": [
        "dataset\n",
        "\n",
        "\n",
        "\n",
        "\n"
      ],
      "metadata": {
        "id": "1IgQO6My5vKF"
      },
      "execution_count": null,
      "outputs": []
    },
    {
      "cell_type": "markdown",
      "source": [
        "**Separating Data and Output :**"
      ],
      "metadata": {
        "id": "m62fe_ICz2KU"
      }
    },
    {
      "cell_type": "code",
      "source": [
        "data = dataset.drop(columns=60,axis=1)\n",
        "bomb = dataset[60]"
      ],
      "metadata": {
        "id": "ZGRoll9C0KKV"
      },
      "execution_count": 11,
      "outputs": []
    },
    {
      "cell_type": "code",
      "source": [
        "print(bomb)\n",
        "print(data)"
      ],
      "metadata": {
        "id": "i1_wdQxh54Cm",
        "colab": {
          "base_uri": "https://localhost:8080/"
        },
        "outputId": "eae5e52f-2991-4bc4-e6e2-81ba93c14c09"
      },
      "execution_count": 12,
      "outputs": [
        {
          "output_type": "stream",
          "name": "stdout",
          "text": [
            "0      R\n",
            "1      R\n",
            "2      R\n",
            "3      R\n",
            "4      R\n",
            "      ..\n",
            "203    M\n",
            "204    M\n",
            "205    M\n",
            "206    M\n",
            "207    M\n",
            "Name: 60, Length: 208, dtype: object\n",
            "         0       1       2       3       4       5       6       7       8   \\\n",
            "0    0.0200  0.0371  0.0428  0.0207  0.0954  0.0986  0.1539  0.1601  0.3109   \n",
            "1    0.0453  0.0523  0.0843  0.0689  0.1183  0.2583  0.2156  0.3481  0.3337   \n",
            "2    0.0262  0.0582  0.1099  0.1083  0.0974  0.2280  0.2431  0.3771  0.5598   \n",
            "3    0.0100  0.0171  0.0623  0.0205  0.0205  0.0368  0.1098  0.1276  0.0598   \n",
            "4    0.0762  0.0666  0.0481  0.0394  0.0590  0.0649  0.1209  0.2467  0.3564   \n",
            "..      ...     ...     ...     ...     ...     ...     ...     ...     ...   \n",
            "203  0.0187  0.0346  0.0168  0.0177  0.0393  0.1630  0.2028  0.1694  0.2328   \n",
            "204  0.0323  0.0101  0.0298  0.0564  0.0760  0.0958  0.0990  0.1018  0.1030   \n",
            "205  0.0522  0.0437  0.0180  0.0292  0.0351  0.1171  0.1257  0.1178  0.1258   \n",
            "206  0.0303  0.0353  0.0490  0.0608  0.0167  0.1354  0.1465  0.1123  0.1945   \n",
            "207  0.0260  0.0363  0.0136  0.0272  0.0214  0.0338  0.0655  0.1400  0.1843   \n",
            "\n",
            "         9   ...      50      51      52      53      54      55      56  \\\n",
            "0    0.2111  ...  0.0232  0.0027  0.0065  0.0159  0.0072  0.0167  0.0180   \n",
            "1    0.2872  ...  0.0125  0.0084  0.0089  0.0048  0.0094  0.0191  0.0140   \n",
            "2    0.6194  ...  0.0033  0.0232  0.0166  0.0095  0.0180  0.0244  0.0316   \n",
            "3    0.1264  ...  0.0241  0.0121  0.0036  0.0150  0.0085  0.0073  0.0050   \n",
            "4    0.4459  ...  0.0156  0.0031  0.0054  0.0105  0.0110  0.0015  0.0072   \n",
            "..      ...  ...     ...     ...     ...     ...     ...     ...     ...   \n",
            "203  0.2684  ...  0.0203  0.0116  0.0098  0.0199  0.0033  0.0101  0.0065   \n",
            "204  0.2154  ...  0.0051  0.0061  0.0093  0.0135  0.0063  0.0063  0.0034   \n",
            "205  0.2529  ...  0.0155  0.0160  0.0029  0.0051  0.0062  0.0089  0.0140   \n",
            "206  0.2354  ...  0.0042  0.0086  0.0046  0.0126  0.0036  0.0035  0.0034   \n",
            "207  0.2354  ...  0.0181  0.0146  0.0129  0.0047  0.0039  0.0061  0.0040   \n",
            "\n",
            "         57      58      59  \n",
            "0    0.0084  0.0090  0.0032  \n",
            "1    0.0049  0.0052  0.0044  \n",
            "2    0.0164  0.0095  0.0078  \n",
            "3    0.0044  0.0040  0.0117  \n",
            "4    0.0048  0.0107  0.0094  \n",
            "..      ...     ...     ...  \n",
            "203  0.0115  0.0193  0.0157  \n",
            "204  0.0032  0.0062  0.0067  \n",
            "205  0.0138  0.0077  0.0031  \n",
            "206  0.0079  0.0036  0.0048  \n",
            "207  0.0036  0.0061  0.0115  \n",
            "\n",
            "[208 rows x 60 columns]\n"
          ]
        }
      ]
    },
    {
      "cell_type": "markdown",
      "source": [
        "**Scaling :**"
      ],
      "metadata": {
        "id": "jOYsx5_WSLfB"
      }
    },
    {
      "cell_type": "code",
      "source": [
        "data = StandardScaler().fit_transform(data)"
      ],
      "metadata": {
        "id": "wuPjMogkRlEj"
      },
      "execution_count": 13,
      "outputs": []
    },
    {
      "cell_type": "markdown",
      "source": [
        "**Splitting into Training & Testing :** "
      ],
      "metadata": {
        "id": "ZOwprq5KM-47"
      }
    },
    {
      "cell_type": "code",
      "source": [
        "data_train, data_test, bomb_train, bomb_test = train_test_split(data, bomb, test_size=0.2, random_state=2)"
      ],
      "metadata": {
        "id": "hsSTzUNLNQXu"
      },
      "execution_count": 14,
      "outputs": []
    },
    {
      "cell_type": "markdown",
      "source": [
        "**Logistic Regression :**"
      ],
      "metadata": {
        "id": "QmGDcY4eP9cT"
      }
    },
    {
      "cell_type": "code",
      "source": [
        "ML=LogisticRegression()\n",
        "ML.fit(data_train,bomb_train)"
      ],
      "metadata": {
        "id": "mDmS9QbGQDJK",
        "colab": {
          "base_uri": "https://localhost:8080/"
        },
        "outputId": "67a28d1e-0e3a-4dba-c40a-92120538f665"
      },
      "execution_count": 15,
      "outputs": [
        {
          "output_type": "execute_result",
          "data": {
            "text/plain": [
              "LogisticRegression()"
            ]
          },
          "metadata": {},
          "execution_count": 15
        }
      ]
    },
    {
      "cell_type": "markdown",
      "source": [
        "**Testing Accuracy :**"
      ],
      "metadata": {
        "id": "-X-zeZ7YSdnh"
      }
    },
    {
      "cell_type": "code",
      "source": [
        "prediction = ML.predict(data_test)\n",
        "print(accuracy_score(bomb_test, prediction)*100)"
      ],
      "metadata": {
        "colab": {
          "base_uri": "https://localhost:8080/"
        },
        "id": "8v-N6BZOShzx",
        "outputId": "bec85567-bf0d-4506-cd1b-964a422b4bfc"
      },
      "execution_count": 16,
      "outputs": [
        {
          "output_type": "stream",
          "name": "stdout",
          "text": [
            "78.57142857142857\n"
          ]
        }
      ]
    },
    {
      "cell_type": "markdown",
      "source": [
        "**Creating Instances :**"
      ],
      "metadata": {
        "id": "jdDS0sCzpCVJ"
      }
    },
    {
      "cell_type": "code",
      "source": [
        "np.random.shuffle(data_test)\n",
        "instances = data_test[:1, :]\n",
        "instances = instances.tolist()\n",
        "print(instances)\n"
      ],
      "metadata": {
        "colab": {
          "base_uri": "https://localhost:8080/"
        },
        "id": "9GNCWrkjGMeM",
        "outputId": "e9053848-d548-4538-d3e6-3654758c45a6"
      },
      "execution_count": 17,
      "outputs": [
        {
          "output_type": "stream",
          "name": "stdout",
          "text": [
            "[[-0.591393018074821, -0.5302986230057654, -0.4077724422396354, 0.12296825169725588, -0.5233346384745882, -0.45231938468487326, 0.2393504384066985, -0.6686389712177817, -0.6282934975385486, -0.38450504344817943, 0.08752502071057963, 0.20094372729703183, 0.11587528590379294, -0.005901253752166782, -0.006350593322500851, -0.8155736414656786, -0.9237411895656793, -0.8804843179173234, -1.018433182114777, -0.9470498709281271, -0.7731801015319703, -0.9538042158357533, -0.6305762787962824, -0.18216733581162683, 0.3129957955128608, 0.41677932080837976, 0.7379456666685398, 1.2571982470182157, 1.1692082828945973, 0.5320730373162288, 0.5256973916780123, 0.3190035473641347, -0.12193094818381596, -0.22035749210330222, -0.6741407798032926, -0.9880915463389831, -0.8548968534910021, -0.8333644087042908, -0.4541872125802974, -0.3529494856054687, -0.2668548057158335, -0.040358725325664986, -0.9241517506948418, -0.7398277036564718, -0.3459671332692388, 0.20707729919826182, 0.8409523945390309, 0.9278820786233243, -0.023108596531356905, -0.36120845400354773, 0.23633936737159394, 0.164378375390514, -0.6685934506806073, -0.3763253368478326, -0.026926339606796166, -0.7727016932701044, -0.38467727684013936, -0.36395109451693836, -0.5094207954155515, -0.8183432568628788]]\n"
          ]
        }
      ]
    },
    {
      "cell_type": "markdown",
      "source": [
        "**Testing:**"
      ],
      "metadata": {
        "id": "bd-Fk7ocTbTp"
      }
    },
    {
      "cell_type": "code",
      "source": [
        "#Copy the randomly selected Instance created above and paste it below to test it..!! \n",
        "\n",
        "data_new = np.array([[-0.591393018074821, -0.5302986230057654, -0.4077724422396354, 0.12296825169725588, -0.5233346384745882, -0.45231938468487326, 0.2393504384066985, -0.6686389712177817, -0.6282934975385486, -0.38450504344817943, 0.08752502071057963, 0.20094372729703183, 0.11587528590379294, -0.005901253752166782, -0.006350593322500851, -0.8155736414656786, -0.9237411895656793, -0.8804843179173234, -1.018433182114777, -0.9470498709281271, -0.7731801015319703, -0.9538042158357533, -0.6305762787962824, -0.18216733581162683, 0.3129957955128608, 0.41677932080837976, 0.7379456666685398, 1.2571982470182157, 1.1692082828945973, 0.5320730373162288, 0.5256973916780123, 0.3190035473641347, -0.12193094818381596, -0.22035749210330222, -0.6741407798032926, -0.9880915463389831, -0.8548968534910021, -0.8333644087042908, -0.4541872125802974, -0.3529494856054687, -0.2668548057158335, -0.040358725325664986, -0.9241517506948418, -0.7398277036564718, -0.3459671332692388, 0.20707729919826182, 0.8409523945390309, 0.9278820786233243, -0.023108596531356905, -0.36120845400354773, 0.23633936737159394, 0.164378375390514, -0.6685934506806073, -0.3763253368478326, -0.026926339606796166, -0.7727016932701044, -0.38467727684013936, -0.36395109451693836, -0.5094207954155515, -0.8183432568628788]])\n",
        "prediction = ML.predict(data_new)\n",
        "\n",
        "print(\"Prediction : {}\".format(prediction))\n",
        "\n",
        "#   M = Mine  |  R = Rock"
      ],
      "metadata": {
        "colab": {
          "base_uri": "https://localhost:8080/"
        },
        "id": "yZWWAbutL6Yp",
        "outputId": "daf988ec-fc2b-4ef6-c232-9a50c3cc3097"
      },
      "execution_count": 20,
      "outputs": [
        {
          "output_type": "stream",
          "name": "stdout",
          "text": [
            "Prediction : ['M']\n"
          ]
        }
      ]
    }
  ]
}